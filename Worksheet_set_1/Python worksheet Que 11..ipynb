{
 "cells": [
  {
   "cell_type": "markdown",
   "id": "66a34243",
   "metadata": {},
   "source": [
    "que11. Write a python program to find the factorial of a number.\n",
    "\n",
    "\n"
   ]
  },
  {
   "cell_type": "code",
   "execution_count": 2,
   "id": "cc67bf08",
   "metadata": {},
   "outputs": [
    {
     "name": "stdout",
     "output_type": "stream",
     "text": [
      "Enter number6\n",
      "Factorial= 720\n"
     ]
    }
   ],
   "source": [
    "i=int(input(\"Enter number\"))\n",
    "fac=1\n",
    "while i>0:\n",
    "    fac=fac*i\n",
    "    i=i-1\n",
    "print(\"Factorial=\",fac)"
   ]
  },
  {
   "cell_type": "code",
   "execution_count": null,
   "id": "c27a920a",
   "metadata": {},
   "outputs": [],
   "source": []
  }
 ],
 "metadata": {
  "kernelspec": {
   "display_name": "Python 3 (ipykernel)",
   "language": "python",
   "name": "python3"
  },
  "language_info": {
   "codemirror_mode": {
    "name": "ipython",
    "version": 3
   },
   "file_extension": ".py",
   "mimetype": "text/x-python",
   "name": "python",
   "nbconvert_exporter": "python",
   "pygments_lexer": "ipython3",
   "version": "3.9.7"
  }
 },
 "nbformat": 4,
 "nbformat_minor": 5
}
