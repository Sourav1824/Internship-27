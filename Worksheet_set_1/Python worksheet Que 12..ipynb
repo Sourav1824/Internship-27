{
 "cells": [
  {
   "cell_type": "markdown",
   "id": "9121ea6f",
   "metadata": {},
   "source": [
    "que12. Write a python program to find whether a number is prime or composite.\n",
    "\n",
    "\n"
   ]
  },
  {
   "cell_type": "code",
   "execution_count": 5,
   "id": "5eb5af7f",
   "metadata": {},
   "outputs": [
    {
     "name": "stdout",
     "output_type": "stream",
     "text": [
      "enter the number:9\n",
      "The number is not prime\n"
     ]
    }
   ],
   "source": [
    "num= int(input(\"enter the number:\"))\n",
    "flag= 0\n",
    "for i in range (2, num):\n",
    "    if (num % i == 0):\n",
    "        flag = 1\n",
    "        break\n",
    "        \n",
    "if (flag == 0):\n",
    "    print(\"The number is prime\")\n",
    "\n",
    "else:\n",
    "    print(\"The number is not prime\")"
   ]
  },
  {
   "cell_type": "code",
   "execution_count": null,
   "id": "c132a03d",
   "metadata": {},
   "outputs": [],
   "source": []
  }
 ],
 "metadata": {
  "kernelspec": {
   "display_name": "Python 3 (ipykernel)",
   "language": "python",
   "name": "python3"
  },
  "language_info": {
   "codemirror_mode": {
    "name": "ipython",
    "version": 3
   },
   "file_extension": ".py",
   "mimetype": "text/x-python",
   "name": "python",
   "nbconvert_exporter": "python",
   "pygments_lexer": "ipython3",
   "version": "3.9.7"
  }
 },
 "nbformat": 4,
 "nbformat_minor": 5
}
