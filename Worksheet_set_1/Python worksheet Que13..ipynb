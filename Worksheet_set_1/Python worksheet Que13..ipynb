{
 "cells": [
  {
   "cell_type": "markdown",
   "id": "c9e51684",
   "metadata": {},
   "source": [
    "Que 13 Write a python program to check whether a given string is palindrome or not.\n"
   ]
  },
  {
   "cell_type": "code",
   "execution_count": 1,
   "id": "8b45910c",
   "metadata": {},
   "outputs": [
    {
     "name": "stdout",
     "output_type": "stream",
     "text": [
      "Enter string:Sourav\n",
      "not palindrome\n"
     ]
    }
   ],
   "source": [
    "s= input(\"Enter string:\")\n",
    "g=s[-1::-1]\n",
    "if (s==g):\n",
    "    print(\"palindrome\")\n",
    "else:\n",
    "    print(\"not palindrome\")"
   ]
  },
  {
   "cell_type": "code",
   "execution_count": null,
   "id": "89635441",
   "metadata": {},
   "outputs": [],
   "source": []
  }
 ],
 "metadata": {
  "kernelspec": {
   "display_name": "Python 3 (ipykernel)",
   "language": "python",
   "name": "python3"
  },
  "language_info": {
   "codemirror_mode": {
    "name": "ipython",
    "version": 3
   },
   "file_extension": ".py",
   "mimetype": "text/x-python",
   "name": "python",
   "nbconvert_exporter": "python",
   "pygments_lexer": "ipython3",
   "version": "3.9.7"
  }
 },
 "nbformat": 4,
 "nbformat_minor": 5
}
