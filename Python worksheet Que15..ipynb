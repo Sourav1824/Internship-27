{
 "cells": [
  {
   "cell_type": "markdown",
   "id": "469c3ead",
   "metadata": {},
   "source": [
    "Que 15. Write a python program to print the frequency of each of the characters present in a given string"
   ]
  },
  {
   "cell_type": "code",
   "execution_count": 1,
   "id": "a7f4a349",
   "metadata": {},
   "outputs": [
    {
     "name": "stdout",
     "output_type": "stream",
     "text": [
      "Enter the stringkkrcskpbksrcb\n",
      "{'k': 1}\n",
      "{'k': 2, 'r': 1}\n",
      "{'k': 2, 'r': 1, 'c': 1}\n",
      "{'k': 2, 'r': 1, 'c': 1, 's': 1}\n",
      "{'k': 3, 'r': 1, 'c': 1, 's': 1, 'p': 1}\n",
      "{'k': 3, 'r': 1, 'c': 1, 's': 1, 'p': 1, 'b': 1}\n"
     ]
    }
   ],
   "source": [
    "str1 = input (\"Enter the string\")\n",
    "d1 = dict()\n",
    "for c in str1:\n",
    "    if c in d1:\n",
    "        d1[c] = d1[c] + 1\n",
    "    else:\n",
    "        d1[c] = 1\n",
    "        print(d1)"
   ]
  },
  {
   "cell_type": "code",
   "execution_count": null,
   "id": "ddae5e02",
   "metadata": {},
   "outputs": [],
   "source": []
  }
 ],
 "metadata": {
  "kernelspec": {
   "display_name": "Python 3 (ipykernel)",
   "language": "python",
   "name": "python3"
  },
  "language_info": {
   "codemirror_mode": {
    "name": "ipython",
    "version": 3
   },
   "file_extension": ".py",
   "mimetype": "text/x-python",
   "name": "python",
   "nbconvert_exporter": "python",
   "pygments_lexer": "ipython3",
   "version": "3.9.7"
  }
 },
 "nbformat": 4,
 "nbformat_minor": 5
}
